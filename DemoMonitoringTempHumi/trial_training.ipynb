{
 "cells": [
  {
   "cell_type": "markdown",
   "id": "51fc63bf-61a5-4384-a44b-b6f8f6401105",
   "metadata": {},
   "source": [
    "# 異常検知モデル検討"
   ]
  },
  {
   "cell_type": "markdown",
   "id": "6c208c64-b7b9-472a-b6ff-fe644eb35ed0",
   "metadata": {},
   "source": [
    "<div style=\"text-align: right;\">\n",
    "KazutoMakino\n",
    "</div>"
   ]
  },
  {
   "cell_type": "markdown",
   "id": "a572c3b2-7102-40d5-92c1-dddd9883d3d0",
   "metadata": {},
   "source": [
    "デモンストレーション用に用意した温湿度センサから得られる湿度データについて，お試しで色々なAIモデルを適用させてみる．\n",
    "\n",
    "---"
   ]
  },
  {
   "cell_type": "markdown",
   "id": "e0c27d79-e876-4e30-9ca8-e85615f55f46",
   "metadata": {},
   "source": [
    "## 0. 目次: <a class=\"anchor\" id=\"0\"></a>\n",
    "1. [データセットの準備](#1)\n",
    "2. [ホテリング $T^2$ 法](#2)"
   ]
  },
  {
   "cell_type": "markdown",
   "id": "5df74ba7-37f9-47ed-9a53-5a18d43da125",
   "metadata": {},
   "source": [
    "---\n",
    "\n",
    "## 1. データセットの準備 <a class=\"anchor\" id=\"1\"></a>  \n",
    "[目次に戻る](#0)  "
   ]
  },
  {
   "cell_type": "code",
   "execution_count": 1,
   "id": "ec11d4d3-916c-4c76-a5f0-8535f74d5ab8",
   "metadata": {},
   "outputs": [],
   "source": [
    "from pathlib import Path"
   ]
  },
  {
   "cell_type": "code",
   "execution_count": 2,
   "id": "5741d781-c55c-4518-b7ce-0f1a0099cfba",
   "metadata": {},
   "outputs": [
    {
     "data": {
      "text/plain": [
       "['20220118180523357086.txt',\n",
       " '20220118192914980961.txt',\n",
       " '20220119092720689483.txt',\n",
       " '20220119122429859779.txt']"
      ]
     },
     "execution_count": 2,
     "metadata": {},
     "output_type": "execute_result"
    }
   ],
   "source": [
    "curdir = Path(\"\").resolve()\n",
    "datadir = curdir / \"traindata\"\n",
    "flist = list(datadir.glob(\"*.txt\"))\n",
    "\n",
    "[v.name for v in flist]"
   ]
  },
  {
   "cell_type": "markdown",
   "id": "5468114b-7be1-480e-9144-026a9469cb4b",
   "metadata": {},
   "source": [
    "上記において，上から2つ目の `20220118192914980961.txt` が異常と定義したデータを含むファイルで，他は正常データとしている（データ分析については `./eda.ipynb` 参照）．  \n",
    "以下の通り，ファイルごとに名前を付け，データは `pandas.DataFrame` として，一つの辞書 `dfs` にまとめる．  \n",
    "また，全データ自体も一つの `pandas.DataFrame` で `df_all` にまとめることにする．"
   ]
  },
  {
   "cell_type": "code",
   "execution_count": 3,
   "id": "f6fef8c5-299f-47ef-be72-35e386b2a263",
   "metadata": {},
   "outputs": [],
   "source": [
    "import pandas as pd"
   ]
  },
  {
   "cell_type": "code",
   "execution_count": 4,
   "id": "051ab1a7-9d65-428b-9108-caf14cfda167",
   "metadata": {},
   "outputs": [
    {
     "name": "stdout",
     "output_type": "stream",
     "text": [
      "*** 20220118180523357086.txt ***\n",
      "<class 'pandas.core.frame.DataFrame'>\n",
      "RangeIndex: 2730 entries, 0 to 2729\n",
      "Data columns (total 4 columns):\n",
      " #   Column             Non-Null Count  Dtype         \n",
      "---  ------             --------------  -----         \n",
      " 0   TimeStamp          2730 non-null   datetime64[ns]\n",
      " 1   ElapsedTime[s]     2730 non-null   float64       \n",
      " 2   Temperature[degC]  2730 non-null   float64       \n",
      " 3   Humidity[%]        2730 non-null   float64       \n",
      "dtypes: datetime64[ns](1), float64(3)\n",
      "memory usage: 85.4 KB\n",
      "None\n",
      "\n",
      "*** 20220118192914980961.txt ***\n",
      "<class 'pandas.core.frame.DataFrame'>\n",
      "RangeIndex: 520 entries, 0 to 519\n",
      "Data columns (total 4 columns):\n",
      " #   Column             Non-Null Count  Dtype         \n",
      "---  ------             --------------  -----         \n",
      " 0   TimeStamp          520 non-null    datetime64[ns]\n",
      " 1   ElapsedTime[s]     520 non-null    float64       \n",
      " 2   Temperature[degC]  520 non-null    float64       \n",
      " 3   Humidity[%]        520 non-null    float64       \n",
      "dtypes: datetime64[ns](1), float64(3)\n",
      "memory usage: 16.4 KB\n",
      "None\n",
      "\n",
      "*** 20220119092720689483.txt ***\n",
      "<class 'pandas.core.frame.DataFrame'>\n",
      "RangeIndex: 7851 entries, 0 to 7850\n",
      "Data columns (total 4 columns):\n",
      " #   Column             Non-Null Count  Dtype         \n",
      "---  ------             --------------  -----         \n",
      " 0   TimeStamp          7851 non-null   datetime64[ns]\n",
      " 1   ElapsedTime[s]     7851 non-null   float64       \n",
      " 2   Temperature[degC]  7851 non-null   float64       \n",
      " 3   Humidity[%]        7851 non-null   float64       \n",
      "dtypes: datetime64[ns](1), float64(3)\n",
      "memory usage: 245.5 KB\n",
      "None\n",
      "\n",
      "*** 20220119122429859779.txt ***\n",
      "<class 'pandas.core.frame.DataFrame'>\n",
      "RangeIndex: 17195 entries, 0 to 17194\n",
      "Data columns (total 4 columns):\n",
      " #   Column             Non-Null Count  Dtype         \n",
      "---  ------             --------------  -----         \n",
      " 0   TimeStamp          17195 non-null  datetime64[ns]\n",
      " 1   ElapsedTime[s]     17195 non-null  float64       \n",
      " 2   Temperature[degC]  17195 non-null  float64       \n",
      " 3   Humidity[%]        17195 non-null  float64       \n",
      "dtypes: datetime64[ns](1), float64(3)\n",
      "memory usage: 537.5 KB\n",
      "None\n",
      "\n",
      "*** all records ***\n",
      "<class 'pandas.core.frame.DataFrame'>\n",
      "RangeIndex: 28296 entries, 0 to 28295\n",
      "Data columns (total 4 columns):\n",
      " #   Column             Non-Null Count  Dtype         \n",
      "---  ------             --------------  -----         \n",
      " 0   TimeStamp          28296 non-null  datetime64[ns]\n",
      " 1   ElapsedTime[s]     28296 non-null  float64       \n",
      " 2   Temperature[degC]  28296 non-null  float64       \n",
      " 3   Humidity[%]        28296 non-null  float64       \n",
      "dtypes: datetime64[ns](1), float64(3)\n",
      "memory usage: 884.4 KB\n",
      "None\n"
     ]
    }
   ],
   "source": [
    "# init\n",
    "dfs = {}\n",
    "df_all = pd.DataFrame()\n",
    "\n",
    "# loop: files\n",
    "for fpath in flist:\n",
    "    # file open\n",
    "    with fpath.open(mode=\"r\", encoding=\"utf-8\") as f:\n",
    "        # read\n",
    "        txt = f.read()\n",
    "\n",
    "    # split with \"\\n\"\n",
    "    lines = txt.split(\"\\n\")\n",
    "\n",
    "    # exclude not line.startswith(\"TimeStamp: \")\n",
    "    lines = [v for v in lines if v.startswith(\"TimeStamp: \")]\n",
    "\n",
    "    # split with \", \"\n",
    "    mat = [v.split(\", \") for v in lines if v]\n",
    "\n",
    "    # split with \": \", maxsplit=1\n",
    "    item_tuples =  [[vv.split(\": \", maxsplit=1) for vv in v if vv] for v in mat if v]\n",
    "    columns = [v[0] for v in item_tuples[0]]\n",
    "    values = [[vv[1] for vv in v] for v in item_tuples]\n",
    "\n",
    "    # make dataframe\n",
    "    df = pd.DataFrame(data=values, columns=columns)\n",
    "\n",
    "    # cast\n",
    "    for col in df.columns:\n",
    "        if col==\"TimeStamp\":\n",
    "            df[col] = pd.to_datetime(df[col])\n",
    "        else:\n",
    "            df[col] = df[col].astype(float)\n",
    "\n",
    "    # show\n",
    "    print(f\"*** {fpath.name} ***\")\n",
    "    print(df.info())\n",
    "    print()\n",
    "\n",
    "    # add to dfs\n",
    "    dfs[fpath.stem] = df\n",
    "\n",
    "    # add to df_all\n",
    "    df_all = pd.concat([df_all, df])\n",
    "\n",
    "# reset index\n",
    "df_all.reset_index(drop=True, inplace=True)\n",
    "\n",
    "# show\n",
    "print(\"*** all records ***\")\n",
    "print(df_all.info())"
   ]
  },
  {
   "cell_type": "markdown",
   "id": "af47947a-57d2-448b-9f6f-7883200b7aec",
   "metadata": {},
   "source": [
    "---\n",
    "\n",
    "## 2. ホテリング $T^2$ 法 <a class=\"anchor\" id=\"2\"></a>  \n",
    "[目次に戻る](#0)  "
   ]
  },
  {
   "cell_type": "markdown",
   "id": "79c20fb3-873b-44c2-8ffc-a00ff912a2d3",
   "metadata": {},
   "source": [
    "Ref:\n",
    "- https://qiita.com/Zepprix/items/f6a5de2e3f6689bd2c1f"
   ]
  },
  {
   "cell_type": "code",
   "execution_count": 5,
   "id": "2dcf488c-a087-45e6-a246-e3bd2978f681",
   "metadata": {},
   "outputs": [],
   "source": [
    "import numpy as np"
   ]
  },
  {
   "cell_type": "code",
   "execution_count": 6,
   "id": "04ea3f1b-3e53-4092-bf57-d5a717115024",
   "metadata": {},
   "outputs": [],
   "source": [
    "# set data\n",
    "sample = df_all[\"Humidity[%]\"].to_numpy()"
   ]
  },
  {
   "cell_type": "code",
   "execution_count": 7,
   "id": "4cbc01f2-4358-488e-a069-c0a923dd66b6",
   "metadata": {},
   "outputs": [
    {
     "data": {
      "text/plain": [
       "'sample_mean=49.983075611393836, sample_var=60.95686420223213'"
      ]
     },
     "execution_count": 7,
     "metadata": {},
     "output_type": "execute_result"
    }
   ],
   "source": [
    "# sample mean\n",
    "sample_mean = np.mean(sample)\n",
    "\n",
    "# sample variance\n",
    "sample_var = np.var(sample, ddof=0)\n",
    "\n",
    "f\"sample_mean={sample_mean}, sample_var={sample_var}\""
   ]
  },
  {
   "cell_type": "code",
   "execution_count": 8,
   "id": "6f9c1fdf-dd9c-4fde-8f7c-8b6977159605",
   "metadata": {},
   "outputs": [
    {
     "data": {
      "text/plain": [
       "'shape=(28296,), min=6.420763620637404e-09, max=24.221292945541084'"
      ]
     },
     "execution_count": 8,
     "metadata": {},
     "output_type": "execute_result"
    }
   ],
   "source": [
    "# init\n",
    "anomaly_scores = []\n",
    "for s in sample:\n",
    "    # calc anomaly score\n",
    "    t = (s - sample_mean)**2 / sample_var\n",
    "\n",
    "    # append\n",
    "    anomaly_scores.append(t)\n",
    "\n",
    "f\"shape={np.shape(anomaly_scores)}, min={np.min(anomaly_scores)}, max={np.max(anomaly_scores)}\""
   ]
  },
  {
   "cell_type": "code",
   "execution_count": 9,
   "id": "1e287aab-e1ac-4182-9d57-49d245939c21",
   "metadata": {},
   "outputs": [],
   "source": [
    "from scipy import stats"
   ]
  },
  {
   "cell_type": "code",
   "execution_count": 10,
   "id": "9a987464-9cfb-4552-ab53-f3d0580ac18e",
   "metadata": {},
   "outputs": [
    {
     "data": {
      "text/plain": [
       "7.879438576622417"
      ]
     },
     "execution_count": 10,
     "metadata": {},
     "output_type": "execute_result"
    }
   ],
   "source": [
    "# get threshold from 1% of chi-square distribution\n",
    "threshold = stats.chi2.interval(0.99, 1)[1]\n",
    "threshold"
   ]
  },
  {
   "cell_type": "code",
   "execution_count": 11,
   "id": "bd1bbad4-cde4-4e62-892d-ece7f6300454",
   "metadata": {},
   "outputs": [],
   "source": [
    "import matplotlib.pyplot as plt\n",
    "import seaborn as sns\n",
    "sns.set()"
   ]
  },
  {
   "cell_type": "code",
   "execution_count": 12,
   "id": "01006794-45dc-457b-a014-eb33960c8f4e",
   "metadata": {},
   "outputs": [
    {
     "data": {
      "image/png": "[encoded data removed]",
      "text/plain": [
       "<Figure size 432x288 with 1 Axes>"
      ]
     },
     "metadata": {},
     "output_type": "display_data"
    }
   ],
   "source": [
    "# plot\n",
    "plt.scatter(x=list(range(len(anomaly_scores))), y=anomaly_scores, marker=\".\")\n",
    "plt.axhline(y=threshold, linestyle=\"--\", color=\"gray\")\n",
    "plt.xlabel(\"Index\")\n",
    "plt.ylabel(\"Anomaly score\\n(Hotelling T-squared distribution)\")\n",
    "plt.show()"
   ]
  },
  {
   "cell_type": "markdown",
   "id": "feb756b0-b950-48d7-bb25-cb07faf54439",
   "metadata": {},
   "source": [
    "- 横軸は `df_all` における行番号，縦軸はホテリング $T^2$ 法に基づく異常度を示す\n",
    "- 破線は，カイ2乗分布における1%区間から計算した閾値を示す\n",
    "- Index = 3000 あたりで閾値を超えるデータ点が多く現れている．これは，疑似的な異常として定義した  `20220118192914980961.txt` のデータであるため，簡易的だが異常として検知できている．\n",
    "\n",
    "上記の計算は，異常が含まれるデータも異常度の計算に含まれている．  \n",
    "しかし，現実において，異常データが現れるのは稀なので，バックデータは正常データのみであることが望ましい．  \n",
    "従って，`20220118192914980961.txt` 以外のデータで標本平均と標本分散を計算し，異常度の計算は `20220118192914980961.txt` に対して行ってみる．"
   ]
  },
  {
   "cell_type": "markdown",
   "id": "38817648-4e63-4dbf-aa63-03d37bb79626",
   "metadata": {},
   "source": [
    "まずは正常と異常を含む（統計量計算には用いない）データセットを分けて作成する．"
   ]
  },
  {
   "cell_type": "code",
   "execution_count": 13,
   "id": "b34a031a-75b7-4816-a231-a3bc78bc1d7e",
   "metadata": {},
   "outputs": [
    {
     "data": {
      "text/plain": [
       "((520,), (27776,))"
      ]
     },
     "execution_count": 13,
     "metadata": {},
     "output_type": "execute_result"
    }
   ],
   "source": [
    "sample_norm, sample_anom = [], []\n",
    "\n",
    "for k,df in dfs.items():\n",
    "    if k==\"20220118192914980961\":\n",
    "        sample_anom.extend(df[\"Humidity[%]\"].to_list())\n",
    "    else:\n",
    "        sample_norm.extend(df[\"Humidity[%]\"].to_list())\n",
    "np.shape(sample_anom),np.shape(sample_norm)"
   ]
  },
  {
   "cell_type": "markdown",
   "id": "8f220f82-dbde-49df-a249-453bc4fedae2",
   "metadata": {},
   "source": [
    "次に統計量を計算する．"
   ]
  },
  {
   "cell_type": "code",
   "execution_count": 14,
   "id": "f2030d80-ac16-474e-bce1-8eabb3ddbdf6",
   "metadata": {},
   "outputs": [
    {
     "data": {
      "text/plain": [
       "'sample_mean=49.94556546586982, sample_var=60.61671251466801'"
      ]
     },
     "execution_count": 14,
     "metadata": {},
     "output_type": "execute_result"
    }
   ],
   "source": [
    "# sample mean\n",
    "smean = np.mean(sample_norm)\n",
    "\n",
    "# sample variance\n",
    "svar = np.var(sample_norm, ddof=0)\n",
    "\n",
    "f\"sample_mean={smean}, sample_var={svar}\""
   ]
  },
  {
   "cell_type": "markdown",
   "id": "1fbb3e69-a274-45b0-bc94-30031566155b",
   "metadata": {},
   "source": [
    "上記統計量を用いて，これの計算に用いていない異常値を含むデータについて異常度を計算すると，"
   ]
  },
  {
   "cell_type": "code",
   "execution_count": 15,
   "id": "13bc6d0a-7804-4528-9390-a4d4b28fb06a",
   "metadata": {},
   "outputs": [
    {
     "data": {
      "text/plain": [
       "'shape=(520,), min=1.0281598349217927e-06, max=24.40478936056672'"
      ]
     },
     "execution_count": 15,
     "metadata": {},
     "output_type": "execute_result"
    }
   ],
   "source": [
    "# init\n",
    "scores = []\n",
    "for s in sample_anom:\n",
    "    # calc anomaly score\n",
    "    t = (s - smean)**2 / svar\n",
    "\n",
    "    # append\n",
    "    scores.append(t)\n",
    "\n",
    "f\"shape={np.shape(scores)}, min={np.min(scores)}, max={np.max(scores)}\""
   ]
  },
  {
   "cell_type": "markdown",
   "id": "b99c4f5a-b777-443e-b622-221f1cf4cf44",
   "metadata": {},
   "source": [
    "閾値を定義する（さっきと同じ）"
   ]
  },
  {
   "cell_type": "code",
   "execution_count": 16,
   "id": "c21795bd-3a39-4d64-8cd6-96af41982f21",
   "metadata": {},
   "outputs": [
    {
     "data": {
      "text/plain": [
       "7.879438576622417"
      ]
     },
     "execution_count": 16,
     "metadata": {},
     "output_type": "execute_result"
    }
   ],
   "source": [
    "# get threshold from 1% of chi-square distribution\n",
    "threshold = stats.chi2.interval(0.99, 1)[1]\n",
    "threshold"
   ]
  },
  {
   "cell_type": "markdown",
   "id": "daeafd0e-476f-48f1-ad8d-0c7969a75c1c",
   "metadata": {},
   "source": [
    "プロットして確認してみる．"
   ]
  },
  {
   "cell_type": "code",
   "execution_count": 17,
   "id": "1c78fa68-f341-4d59-b00d-c38d00dc4c25",
   "metadata": {},
   "outputs": [
    {
     "data": {
      "image/png": "[encoded data removed]",
      "text/plain": [
       "<Figure size 432x288 with 1 Axes>"
      ]
     },
     "metadata": {},
     "output_type": "display_data"
    }
   ],
   "source": [
    "# plot\n",
    "plt.scatter(x=list(range(len(scores))), y=scores, marker=\".\")\n",
    "plt.axhline(y=threshold, linestyle=\"--\", color=\"gray\")\n",
    "plt.xlabel(\"Index\")\n",
    "plt.ylabel(\"Anomaly score\\n(Hotelling T-squared distribution)\")\n",
    "plt.show()"
   ]
  },
  {
   "cell_type": "markdown",
   "id": "b3dbd2bb-a7ee-41db-9a01-6adee2651c9b",
   "metadata": {},
   "source": [
    "という具合で，異常検知できそうなので，当該標本平均／標本分散を用いた異常度算出をモニタリングシステムに実装し，デモンストレーションしてみる．  \n",
    "これらの値を用いるので，以下の通りファイルに保存しておく．"
   ]
  },
  {
   "cell_type": "code",
   "execution_count": 18,
   "id": "9b7250f1-9100-4c0b-8b7a-87476cde76bd",
   "metadata": {},
   "outputs": [],
   "source": [
    "import json\n",
    "from datetime import datetime"
   ]
  },
  {
   "cell_type": "code",
   "execution_count": 19,
   "id": "24f9d635-7cac-4c25-be01-e31247a59b1f",
   "metadata": {},
   "outputs": [],
   "source": [
    "# set save dict\n",
    "savedict = {\n",
    "    \"mean\": smean,\n",
    "    \"variance\": svar,\n",
    "    \"alpha\": 0.99,\n",
    "    \"df\": 1.0,\n",
    "    \"threshold\": threshold,\n",
    "    \"memo\": \"Hotelling T-squared distribution\",\n",
    "    \"timestamp\": datetime.now().strftime(\"%Y/%m/%d-%H:%M:%S.%f\"),\n",
    "    \"sourcedir\": datadir.name,\n",
    "    \"sourcefiles\": [v.name for v in flist],\n",
    "}\n",
    "\n",
    "# set save path\n",
    "savepath = curdir / \"param_HotellingTSquare.json\"\n",
    "\n",
    "# save\n",
    "with savepath.open(mode=\"w\") as f:\n",
    "    json.dump(savedict, f, indent=4)"
   ]
  },
  {
   "cell_type": "markdown",
   "id": "b1d5cd34-c551-47ce-bd4e-8325c0379e4a",
   "metadata": {},
   "source": [
    "保存内容を一応確認する．"
   ]
  },
  {
   "cell_type": "code",
   "execution_count": 20,
   "id": "0f0f233f-bcfd-491c-98ec-f3cdd1b8cc72",
   "metadata": {},
   "outputs": [
    {
     "name": "stdout",
     "output_type": "stream",
     "text": [
      "{'mean': 49.94556546586982, 'variance': 60.61671251466801, 'alpha': 0.99, 'df': 1.0, 'threshold': 7.879438576622417, 'memo': 'Hotelling T-squared distribution', 'timestamp': '2022/01/21-04:15:39.863175', 'sourcedir': 'traindata', 'sourcefiles': ['20220118180523357086.txt', '20220118192914980961.txt', '20220119092720689483.txt', '20220119122429859779.txt']}\n"
     ]
    }
   ],
   "source": [
    "with savepath.open(mode=\"r\") as f:\n",
    "    print(json.load(f))"
   ]
  },
  {
   "cell_type": "code",
   "execution_count": null,
   "id": "3fc1afa5-4265-49c4-9cf6-8a03aec05685",
   "metadata": {},
   "outputs": [],
   "source": []
  }
 ],
 "metadata": {
  "kernelspec": {
   "display_name": "Python 3 (ipykernel)",
   "language": "python",
   "name": "python3"
  },
  "language_info": {
   "codemirror_mode": {
    "name": "ipython",
    "version": 3
   },
   "file_extension": ".py",
   "mimetype": "text/x-python",
   "name": "python",
   "nbconvert_exporter": "python",
   "pygments_lexer": "ipython3",
   "version": "3.8.10"
  }
 },
 "nbformat": 4,
 "nbformat_minor": 5
}
